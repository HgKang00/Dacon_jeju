{
 "cells": [
  {
   "cell_type": "code",
   "execution_count": 1,
   "metadata": {},
   "outputs": [
    {
     "name": "stderr",
     "output_type": "stream",
     "text": [
      "/Users/hyeongyukang/Library/Python/3.9/lib/python/site-packages/tqdm/auto.py:21: TqdmWarning: IProgress not found. Please update jupyter and ipywidgets. See https://ipywidgets.readthedocs.io/en/stable/user_install.html\n",
      "  from .autonotebook import tqdm as notebook_tqdm\n"
     ]
    }
   ],
   "source": [
    "##\n",
    "import numpy as np\n",
    "import pandas as pd\n",
    "\n",
    "##\n",
    "from jeju.utils.scalilng import data_split"
   ]
  },
  {
   "cell_type": "code",
   "execution_count": 2,
   "metadata": {},
   "outputs": [],
   "source": [
    "data = pd.read_csv(\"data/train.csv\")\n",
    "data_list = data_split(data)"
   ]
  },
  {
   "cell_type": "code",
   "execution_count": 3,
   "metadata": {},
   "outputs": [],
   "source": [
    "unique_code = ['BC_C_J', 'TG_B_J', 'CR_B_J', 'RD_E_S', 'BC_A_J', 'CB_F_J', 'RD_D_J', 'TG_A_S', 'BC_E_S', 'CR_D_J', 'BC_A_S', 'BC_B_S', 'TG_E_J', \n",
    "               'CR_E_S', 'RD_F_J', 'BC_E_J', 'TG_A_J', 'CR_C_J', 'CR_D_S', 'TG_C_J', 'CB_A_S', 'TG_D_J', 'CR_E_J', 'RD_C_S', 'BC_C_S', 'CB_E_J', \n",
    "               'RD_E_J', 'BC_D_J', 'CR_A_J', 'TG_E_S', 'TG_C_S', 'TG_D_S', 'RD_A_S', 'RD_A_J', 'RD_D_S', 'TG_B_S', 'CB_D_J', 'CB_A_J', 'BC_B_J']"
   ]
  },
  {
   "cell_type": "code",
   "execution_count": 22,
   "metadata": {},
   "outputs": [
    {
     "name": "stderr",
     "output_type": "stream",
     "text": [
      "/var/folders/6r/w8k58h7j3799_jkwn2c_nk7c0000gn/T/ipykernel_937/1976238590.py:2: SettingWithCopyWarning: \n",
      "A value is trying to be set on a copy of a slice from a DataFrame.\n",
      "Try using .loc[row_indexer,col_indexer] = value instead\n",
      "\n",
      "See the caveats in the documentation: https://pandas.pydata.org/pandas-docs/stable/user_guide/indexing.html#returning-a-view-versus-a-copy\n",
      "  data_ex['timestamp'] = pd.to_datetime(data_ex['timestamp'])\n"
     ]
    }
   ],
   "source": [
    "data_ex = data_list['data_TG_B_J']\n",
    "data_ex['timestamp'] = pd.to_datetime(data_ex['timestamp'])"
   ]
  },
  {
   "cell_type": "markdown",
   "metadata": {},
   "source": [
    "## 요일 기준\n",
    "### 2019년 3월2일(토) ~ 3월 26일(화)\n",
    "### 2020년 3월 7일(토) ~ 3월 31일(화)\n",
    "### 2021년 3월 6일(토) ~ 3월 30일(화)\n",
    "### 2022년 3월 5일(토) ~ 3월 29일(화)"
   ]
  },
  {
   "cell_type": "code",
   "execution_count": 110,
   "metadata": {},
   "outputs": [],
   "source": [
    "data = pd.read_csv(\"data/train.csv\")\n",
    "data_list = data_split(data)"
   ]
  },
  {
   "cell_type": "code",
   "execution_count": 111,
   "metadata": {},
   "outputs": [],
   "source": [
    "march_data = {}\n",
    "for code in unique_code:\n",
    "    march_data[code] = {}\n",
    "    march_data[code]['2019'] = data_list[f'data_{code}'][(data_list[f'data_{code}']['timestamp'] >= '2019-03-02') & (data_list[f'data_{code}']['timestamp'] <= '2019-03-26')].reset_index(drop = True)\n",
    "    march_data[code]['2020'] = data_list[f'data_{code}'][(data_list[f'data_{code}']['timestamp'] >= '2020-03-07') & (data_list[f'data_{code}']['timestamp'] <= '2020-03-31')].reset_index(drop = True)\n",
    "    march_data[code]['2021'] = data_list[f'data_{code}'][(data_list[f'data_{code}']['timestamp'] >= '2021-03-06') & (data_list[f'data_{code}']['timestamp'] <= '2021-03-30')].reset_index(drop = True)\n",
    "    march_data[code]['2022'] = data_list[f'data_{code}'][(data_list[f'data_{code}']['timestamp'] >= '2022-03-05') & (data_list[f'data_{code}']['timestamp'] <= '2022-03-29')].reset_index(drop = True)\n",
    "    \n",
    "    valid_avg = []\n",
    "    for i in range(25):\n",
    "        avg = (march_data[code]['2019']['price(원/kg)'][i] + march_data[code]['2020']['price(원/kg)'][i] + march_data[code]['2021']['price(원/kg)'][i] + march_data[code]['2022']['price(원/kg)'][i]) / 4\n",
    "        valid_avg.append(avg)\n",
    "        \n",
    "\n",
    "    march_data[code]['avg'] = valid_avg"
   ]
  },
  {
   "cell_type": "code",
   "execution_count": 132,
   "metadata": {},
   "outputs": [
    {
     "data": {
      "text/plain": [
       "0     4538.0\n",
       "1        0.0\n",
       "2     3992.0\n",
       "3     4055.0\n",
       "4     4278.0\n",
       "5     4165.0\n",
       "6     3690.0\n",
       "7     4838.0\n",
       "8        0.0\n",
       "9     4217.0\n",
       "10    3904.0\n",
       "11    3686.0\n",
       "12    3552.0\n",
       "13    3573.0\n",
       "14    3541.0\n",
       "15       0.0\n",
       "16    3530.0\n",
       "17    3372.0\n",
       "18    3609.0\n",
       "19    3961.0\n",
       "20    4768.0\n",
       "21    5408.0\n",
       "22       0.0\n",
       "23    5265.0\n",
       "24    3443.0\n",
       "Name: price(원/kg), dtype: float64"
      ]
     },
     "execution_count": 132,
     "metadata": {},
     "output_type": "execute_result"
    }
   ],
   "source": [
    "march_data['TG_A_J']['2019']['price(원/kg)']"
   ]
  },
  {
   "cell_type": "code",
   "execution_count": 16,
   "metadata": {},
   "outputs": [],
   "source": [
    "march_data = {}\n",
    "for code in unique_code:\n",
    "    march_data[code] = {}\n",
    "    march_data[code]['2019'] = data_list[f'data_{code}'][(data_list[f'data_{code}']['timestamp'] >= '2019-02-23') & (data_list[f'data_{code}']['timestamp'] <= '2019-03-29')].reset_index(drop = True)\n",
    "    march_data[code]['2020'] = data_list[f'data_{code}'][(data_list[f'data_{code}']['timestamp'] >= '2020-02-29') & (data_list[f'data_{code}']['timestamp'] <= '2020-04-03')].reset_index(drop = True)\n",
    "    march_data[code]['2021'] = data_list[f'data_{code}'][(data_list[f'data_{code}']['timestamp'] >= '2021-02-27') & (data_list[f'data_{code}']['timestamp'] <= '2021-04-02')].reset_index(drop = True)\n",
    "    march_data[code]['2022'] = data_list[f'data_{code}'][(data_list[f'data_{code}']['timestamp'] >= '2022-02-26') & (data_list[f'data_{code}']['timestamp'] <= '2022-04-01')].reset_index(drop = True)\n",
    "    \n",
    "    valid_avg = []\n",
    "    for i in range(35):\n",
    "        price_19 = march_data[code]['2019']['price(원/kg)'][i]\n",
    "        price_20 = march_data[code]['2020']['price(원/kg)'][i] \n",
    "        price_21 = march_data[code]['2021']['price(원/kg)'][i] \n",
    "        price_22 =march_data[code]['2022']['price(원/kg)'][i] \n",
    "\n",
    "        prices = [price_19, price_20, price_21, price_22]\n",
    "        filtered_prices = [price for price in prices if price != 0]\n",
    "\n",
    "        # 평균 계산\n",
    "        if filtered_prices:\n",
    "            average_price = sum(filtered_prices) / len(filtered_prices)\n",
    "        else: \n",
    "            average_price = 0\n",
    "        \n",
    "        valid_avg.append(average_price)\n",
    "        \n",
    "    march_data[code]['avg'] = valid_avg\n",
    "\n",
    "    new_data = {\n",
    "        'ID': [f'{code}_20230225', f'{code}_20230226', \n",
    "            f'{code}_20230227', f'{code}_20230228', f'{code}_20230301', f'{code}_20230302', f'{code}_20230303',\n",
    "            f'{code}_20230304', f'{code}_20230305', f'{code}_20230306', f'{code}_20230307', f'{code}_20230308',\n",
    "            f'{code}_20230309', f'{code}_20230310', f'{code}_20230311', f'{code}_20230312', f'{code}_20230313',\n",
    "            f'{code}_20230314', f'{code}_20230315', f'{code}_20230316', f'{code}_20230317', f'{code}_20230318',\n",
    "            f'{code}_20230319', f'{code}_20230320', f'{code}_20230321', f'{code}_20230322', f'{code}_20230323',\n",
    "            f'{code}_20230324', f'{code}_20230325', f'{code}_20230326', f'{code}_20230327', f'{code}_20230328',\n",
    "            f'{code}_20230329',f'{code}_20230330',f'{code}_20230331'],\n",
    "        'timestamp': pd.date_range(start='2023-02-25', end='2023-03-31'),\n",
    "        'item': [code.split('_')[0]] * 35,\n",
    "        'corporation': [code.split('_')[1]] * 35,\n",
    "        'location': [code.split('_')[2]] * 35,\n",
    "        'supply(kg)': [0.0] * 35,\n",
    "        'price(원/kg)': valid_avg\n",
    "    }\n",
    "\n",
    "    march_data[code]['valid_avg'] = pd.DataFrame(new_data)\n"
   ]
  },
  {
   "cell_type": "code",
   "execution_count": 19,
   "metadata": {},
   "outputs": [
    {
     "data": {
      "text/plain": [
       "3500.3333333333335"
      ]
     },
     "execution_count": 19,
     "metadata": {},
     "output_type": "execute_result"
    }
   ],
   "source": [
    "march_data['TG_A_J']['avg'][7:][0]"
   ]
  },
  {
   "cell_type": "code",
   "execution_count": 105,
   "metadata": {},
   "outputs": [],
   "source": [
    "march_data = {}\n",
    "for code in unique_code:\n",
    "    march_data[code] = {}\n",
    "    march_data[code]['2019'] = data_list[f'data_{code}'][(data_list[f'data_{code}']['timestamp'] >= '2019-02-22') & (data_list[f'data_{code}']['timestamp'] <= '2019-03-26')].reset_index(drop = True)\n",
    "    march_data[code]['2020'] = data_list[f'data_{code}'][(data_list[f'data_{code}']['timestamp'] >= '2020-02-29') & (data_list[f'data_{code}']['timestamp'] <= '2020-03-31')].reset_index(drop = True)\n",
    "    march_data[code]['2021'] = data_list[f'data_{code}'][(data_list[f'data_{code}']['timestamp'] >= '2021-02-27') & (data_list[f'data_{code}']['timestamp'] <= '2021-03-30')].reset_index(drop = True)\n",
    "    march_data[code]['2022'] = data_list[f'data_{code}'][(data_list[f'data_{code}']['timestamp'] >= '2022-02-26') & (data_list[f'data_{code}']['timestamp'] <= '2022-03-29')].reset_index(drop = True)\n",
    "    \n",
    "    valid_avg = []\n",
    "    for i in range(32):\n",
    "        avg = (march_data[code]['2019']['price(원/kg)'][i] + march_data[code]['2020']['price(원/kg)'][i] + march_data[code]['2021']['price(원/kg)'][i] + march_data[code]['2022']['price(원/kg)'][i]) / 4\n",
    "        valid_avg.append(avg)\n",
    "        \n",
    "    march_data[code]['avg'] = valid_avg\n",
    "\n",
    "    new_data = {\n",
    "        'ID': [f'{code}_20230225', f'{code}_20230226', \n",
    "            f'{code}_20230227', f'{code}_20230228', f'{code}_20230301', f'{code}_20230302', f'{code}_20230303',\n",
    "            f'{code}_20230304', f'{code}_20230305', f'{code}_20230306', f'{code}_20230307', f'{code}_20230308',\n",
    "            f'{code}_20230309', f'{code}_20230310', f'{code}_20230311', f'{code}_20230312', f'{code}_20230313',\n",
    "            f'{code}_20230314', f'{code}_20230315', f'{code}_20230316', f'{code}_20230317', f'{code}_20230318',\n",
    "            f'{code}_20230319', f'{code}_20230320', f'{code}_20230321', f'{code}_20230322', f'{code}_20230323',\n",
    "            f'{code}_20230324', f'{code}_20230325', f'{code}_20230326', f'{code}_20230327', f'{code}_20230328'],\n",
    "        'timestamp': pd.date_range(start='2023-02-25', end='2023-03-28'),\n",
    "        'item': [code.split('_')[0]] * 32,\n",
    "        'corporation': [code.split('_')[1]] * 32,\n",
    "        'location': [code.split('_')[2]] * 32,\n",
    "        'supply(kg)': [0.0] * 32,\n",
    "        'price(원/kg)': valid_avg\n",
    "    }\n",
    "\n",
    "    march_data[code]['valid_avg'] = pd.DataFrame(new_data)"
   ]
  },
  {
   "cell_type": "code",
   "execution_count": 108,
   "metadata": {},
   "outputs": [],
   "source": [
    "total_x = []\n",
    "total_x.append(list(march_data['TG_A_S']['valid_avg']['price(원/kg)']))"
   ]
  },
  {
   "cell_type": "code",
   "execution_count": 109,
   "metadata": {},
   "outputs": [
    {
     "name": "stdout",
     "output_type": "stream",
     "text": [
      "[[3497.75, 860.5, 2817.5, 3679.5, 3907.0, 3918.0, 4079.25, 3797.75, 996.25, 2979.5, 3852.25, 4610.75, 4631.5, 3937.25, 4026.0, 1027.25, 3082.75, 4616.75, 4155.0, 4763.25, 4566.75, 4608.25, 1002.0, 3797.25, 4982.0, 5037.0, 5205.75, 5014.0, 4619.0, 1270.25, 3751.0, 4852.25]]\n"
     ]
    }
   ],
   "source": [
    "print(total_x)"
   ]
  }
 ],
 "metadata": {
  "kernelspec": {
   "display_name": "Python 3",
   "language": "python",
   "name": "python3"
  },
  "language_info": {
   "codemirror_mode": {
    "name": "ipython",
    "version": 3
   },
   "file_extension": ".py",
   "mimetype": "text/x-python",
   "name": "python",
   "nbconvert_exporter": "python",
   "pygments_lexer": "ipython3",
   "version": "3.9.6"
  },
  "orig_nbformat": 4
 },
 "nbformat": 4,
 "nbformat_minor": 2
}
